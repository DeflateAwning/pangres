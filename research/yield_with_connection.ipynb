{
 "cells": [
  {
   "cell_type": "markdown",
   "id": "potential-maker",
   "metadata": {},
   "source": [
    "# Description\n",
    "\n",
    "This notebook was created to research how to keep a connection open when using it in a generator for multiple executions.\n",
    "\n",
    "In `pangres` we have always passed the engine pretty much everywhere and we were created lots of connections, even making one connection per chunk.\n",
    "\n",
    "When using connections everywhere, everything works except for when we want to iterate over results of upserts. See for instance [issue 32 of pangres](https://github.com/ThibTrip/pangres/issues/32)."
   ]
  },
  {
   "cell_type": "code",
   "execution_count": 1,
   "id": "interracial-renaissance",
   "metadata": {},
   "outputs": [],
   "source": [
    "from sqlalchemy import create_engine, text"
   ]
  },
  {
   "cell_type": "markdown",
   "id": "analyzed-compact",
   "metadata": {},
   "source": [
    "# Functions that reproduce my library pangres' workflow"
   ]
  },
  {
   "cell_type": "code",
   "execution_count": 2,
   "id": "herbal-trailer",
   "metadata": {},
   "outputs": [],
   "source": [
    "def create_table(connection, table_name):\n",
    "    ddl = text(f\"CREATE TABLE IF NOT EXISTS {table_name} (id BIGINT PRIMARY KEY, name TEXT);\")\n",
    "    connection.execute(ddl)\n",
    "\n",
    "\n",
    "def commit_if_needed(connection):\n",
    "    \"\"\"\n",
    "    Calls method `commit` of sqlalchemy connection if available (for future versions of sqlalchemy\n",
    "    or for when engine is create with argument `future=True`)\n",
    "    \"\"\"\n",
    "    if hasattr(connection, 'commit'):\n",
    "        connection.commit()\n",
    "\n",
    "\n",
    "def generate_upsert_query(table_name, future:bool=False) -> (str, dict):\n",
    "    query = f\"\"\"INSERT INTO {table_name} (id, name) VALUES (:id0, :name0), (:id1, :name1)\n",
    "                ON CONFLICT (id) DO UPDATE SET name=EXCLUDED.name\"\"\"\n",
    "    parameters = dict(id0=0, name0='Foo', id1=1, name1='Bar')\n",
    "    parameters = {'parameters':parameters} if future else parameters\n",
    "    return query, parameters\n",
    "\n",
    "\n",
    "def execute_upsert(table_name:str, connection, yield_chunks:bool=False, future:bool=False):\n",
    "    query, parameters = generate_upsert_query(table_name=table_name, future=future)\n",
    "    if not yield_chunks:\n",
    "        for _ in range(10):\n",
    "            connection.execute(text(query), **parameters)\n",
    "            commit_if_needed(connection)\n",
    "    else:\n",
    "        def as_generator():\n",
    "            print('entering upsert execution with generator')\n",
    "            for _ in range(10):\n",
    "                result = connection.execute(text(query), **parameters)\n",
    "                commit_if_needed(connection)\n",
    "                yield result\n",
    "            print('leaving upsert execution with generator')\n",
    "        return as_generator()\n",
    "\n",
    "\n",
    "def upsert(engine, table_name:str, yield_chunks:bool=False, simulate_error:bool=False, future:bool=False):\n",
    "    print('entering')  # yeah I know that's not a context manager but that's the same principle here\n",
    "    connection = engine.connect()\n",
    "    with connection.begin():  # run inside a transaction\n",
    "        create_table(connection=connection, table_name=table_name)\n",
    "        if not yield_chunks:\n",
    "            try:\n",
    "                if simulate_error:\n",
    "                    raise ValueError('an error was raised')\n",
    "                return execute_upsert(table_name=table_name,\n",
    "                                      connection=connection,\n",
    "                                      yield_chunks=yield_chunks,\n",
    "                                      future=future)\n",
    "            finally:\n",
    "                print('closing')\n",
    "                connection.close()\n",
    "        else:\n",
    "            def as_generator():\n",
    "                gen = execute_upsert(table_name=table_name,\n",
    "                                     connection=connection,\n",
    "                                     yield_chunks=yield_chunks,\n",
    "                                     future=future)\n",
    "                try:\n",
    "                    print('entering generator within main function')\n",
    "                    for result in gen:\n",
    "                        if simulate_error:\n",
    "                            raise ValueError('an error was raised')\n",
    "                        yield result\n",
    "                finally:\n",
    "                    print('closing generator within main function')\n",
    "                    connection.close()\n",
    "            return as_generator()"
   ]
  },
  {
   "cell_type": "markdown",
   "id": "thousand-diameter",
   "metadata": {},
   "source": [
    "# Tests with `yield_chunks=True` and with `yield_chunks=False`\n",
    "\n",
    "And with errors as well"
   ]
  },
  {
   "cell_type": "code",
   "execution_count": 3,
   "id": "automatic-valentine",
   "metadata": {},
   "outputs": [
    {
     "name": "stdout",
     "output_type": "stream",
     "text": [
      "entering\n",
      "closing\n"
     ]
    }
   ],
   "source": [
    "future = False\n",
    "engine = create_engine('sqlite:///:memory:', future=future)\n",
    "upsert(engine=engine, table_name='test', yield_chunks=False, future=future)"
   ]
  },
  {
   "cell_type": "code",
   "execution_count": 4,
   "id": "curious-latitude",
   "metadata": {},
   "outputs": [
    {
     "name": "stdout",
     "output_type": "stream",
     "text": [
      "entering\n",
      "entering generator within main function\n",
      "entering upsert execution with generator\n",
      "2 rows updated\n",
      "2 rows updated\n",
      "2 rows updated\n",
      "2 rows updated\n",
      "2 rows updated\n",
      "2 rows updated\n",
      "2 rows updated\n",
      "2 rows updated\n",
      "2 rows updated\n",
      "2 rows updated\n",
      "leaving upsert execution with generator\n",
      "closing generator within main function\n"
     ]
    }
   ],
   "source": [
    "for i in upsert(engine=engine, table_name='test', yield_chunks=True, future=future):\n",
    "    print(f'{i.rowcount} rows updated')"
   ]
  },
  {
   "cell_type": "code",
   "execution_count": 5,
   "id": "annual-maker",
   "metadata": {},
   "outputs": [
    {
     "name": "stdout",
     "output_type": "stream",
     "text": [
      "entering\n",
      "closing\n",
      "an error was raised\n"
     ]
    }
   ],
   "source": [
    "engine = create_engine('sqlite:///:memory:')\n",
    "try:\n",
    "    upsert(engine=engine, table_name='test', yield_chunks=False, simulate_error=True, future=future)\n",
    "except Exception as e:\n",
    "    print(e)"
   ]
  },
  {
   "cell_type": "code",
   "execution_count": 6,
   "id": "proprietary-moscow",
   "metadata": {},
   "outputs": [
    {
     "name": "stdout",
     "output_type": "stream",
     "text": [
      "entering\n",
      "entering generator within main function\n",
      "entering upsert execution with generator\n",
      "closing generator within main function\n",
      "an error was raised\n"
     ]
    }
   ],
   "source": [
    "try:\n",
    "    for i in upsert(engine=engine, table_name='test', yield_chunks=True, simulate_error=True, future=future):\n",
    "        print(f'{i.rowcount} rows updated')\n",
    "except Exception as e:\n",
    "    print(e)"
   ]
  }
 ],
 "metadata": {
  "kernelspec": {
   "display_name": "Python [conda env:pangres-dev]",
   "language": "python",
   "name": "conda-env-pangres-dev-py"
  },
  "language_info": {
   "codemirror_mode": {
    "name": "ipython",
    "version": 3
   },
   "file_extension": ".py",
   "mimetype": "text/x-python",
   "name": "python",
   "nbconvert_exporter": "python",
   "pygments_lexer": "ipython3",
   "version": "3.8.5"
  }
 },
 "nbformat": 4,
 "nbformat_minor": 5
}
