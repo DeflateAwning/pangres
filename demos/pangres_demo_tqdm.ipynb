{
 "cells": [
  {
   "cell_type": "markdown",
   "id": "scientific-comedy",
   "metadata": {},
   "source": [
    "# Description\n",
    "\n",
    "This is a demonstration of how to use `pangres` with `tqdm` to have a progress bar for upsert operations."
   ]
  },
  {
   "cell_type": "code",
   "execution_count": 5,
   "id": "occupied-maintenance",
   "metadata": {},
   "outputs": [],
   "source": [
    "import math\n",
    "import pandas as pd\n",
    "import numpy as np\n",
    "from pangres import upsert\n",
    "from sqlalchemy import create_engine\n",
    "from tqdm import tqdm  # pip install tqdm"
   ]
  },
  {
   "cell_type": "markdown",
   "id": "58f2ed4d-c8e3-4c13-b079-5c6b37f1a515",
   "metadata": {},
   "source": [
    "# Config"
   ]
  },
  {
   "cell_type": "code",
   "execution_count": 2,
   "id": "4cd5514e-745a-425a-a6a9-865a95de255c",
   "metadata": {},
   "outputs": [],
   "source": [
    "table_name = 'example'\n",
    "connection_string = \"sqlite:///:memory:\"\n",
    "engine = create_engine(connection_string)"
   ]
  },
  {
   "cell_type": "markdown",
   "id": "c009f821-6bdf-42f3-a3d4-9258d694c962",
   "metadata": {},
   "source": [
    "# Create random DataFrame"
   ]
  },
  {
   "cell_type": "code",
   "execution_count": 3,
   "id": "ce060ba1-059e-417b-898c-1d1ae453e5a5",
   "metadata": {},
   "outputs": [
    {
     "data": {
      "text/html": [
       "<div>\n",
       "<style scoped>\n",
       "    .dataframe tbody tr th:only-of-type {\n",
       "        vertical-align: middle;\n",
       "    }\n",
       "\n",
       "    .dataframe tbody tr th {\n",
       "        vertical-align: top;\n",
       "    }\n",
       "\n",
       "    .dataframe thead th {\n",
       "        text-align: right;\n",
       "    }\n",
       "</style>\n",
       "<table border=\"1\" class=\"dataframe\">\n",
       "  <thead>\n",
       "    <tr style=\"text-align: right;\">\n",
       "      <th></th>\n",
       "      <th>A</th>\n",
       "      <th>B</th>\n",
       "      <th>C</th>\n",
       "      <th>D</th>\n",
       "    </tr>\n",
       "    <tr>\n",
       "      <th>ix</th>\n",
       "      <th></th>\n",
       "      <th></th>\n",
       "      <th></th>\n",
       "      <th></th>\n",
       "    </tr>\n",
       "  </thead>\n",
       "  <tbody>\n",
       "    <tr>\n",
       "      <th>0</th>\n",
       "      <td>73</td>\n",
       "      <td>6</td>\n",
       "      <td>40</td>\n",
       "      <td>92</td>\n",
       "    </tr>\n",
       "    <tr>\n",
       "      <th>1</th>\n",
       "      <td>99</td>\n",
       "      <td>26</td>\n",
       "      <td>96</td>\n",
       "      <td>30</td>\n",
       "    </tr>\n",
       "    <tr>\n",
       "      <th>2</th>\n",
       "      <td>93</td>\n",
       "      <td>24</td>\n",
       "      <td>32</td>\n",
       "      <td>35</td>\n",
       "    </tr>\n",
       "    <tr>\n",
       "      <th>3</th>\n",
       "      <td>10</td>\n",
       "      <td>84</td>\n",
       "      <td>1</td>\n",
       "      <td>82</td>\n",
       "    </tr>\n",
       "    <tr>\n",
       "      <th>4</th>\n",
       "      <td>25</td>\n",
       "      <td>41</td>\n",
       "      <td>38</td>\n",
       "      <td>35</td>\n",
       "    </tr>\n",
       "  </tbody>\n",
       "</table>\n",
       "</div>"
      ],
      "text/plain": [
       "     A   B   C   D\n",
       "ix                \n",
       "0   73   6  40  92\n",
       "1   99  26  96  30\n",
       "2   93  24  32  35\n",
       "3   10  84   1  82\n",
       "4   25  41  38  35"
      ]
     },
     "execution_count": 3,
     "metadata": {},
     "output_type": "execute_result"
    }
   ],
   "source": [
    "df_random = pd.DataFrame(np.random.randint(0, 100, size=(10000, 4)), columns=list('ABCD'))\n",
    "df_random.index.name = 'ix'\n",
    "df_random.head()"
   ]
  },
  {
   "cell_type": "markdown",
   "id": "8660d6f7-acc7-4f6c-a712-f57b76cc24fb",
   "metadata": {},
   "source": [
    "# Upsert DataFrame in chunks with a progress bar"
   ]
  },
  {
   "cell_type": "code",
   "execution_count": 4,
   "id": "80a41014-9ce1-45c2-86e5-029ba22d6df2",
   "metadata": {},
   "outputs": [
    {
     "name": "stderr",
     "output_type": "stream",
     "text": [
      "Upsert random dataframe: 100%|██████████| 2000/2000 [00:05<00:00, 392.38chunk/s]\n"
     ]
    }
   ],
   "source": [
    "chunksize = 5\n",
    "iterator = upsert(con=engine, df=df_random, table_name='example', if_row_exists='update', chunksize=chunksize, yield_chunks=True)\n",
    "expected_iterations = math.ceil(len(df_random) / chunksize)\n",
    "\n",
    "for cursor in tqdm(iterator, desc='Upsert random dataframe', total=expected_iterations, unit='chunk'):\n",
    "    # optional: do something with the yielded `cursor`\n",
    "    pass"
   ]
  }
 ],
 "metadata": {
  "kernelspec": {
   "display_name": "Python [conda env:pangres-dev]",
   "language": "python",
   "name": "conda-env-pangres-dev-py"
  },
  "language_info": {
   "codemirror_mode": {
    "name": "ipython",
    "version": 3
   },
   "file_extension": ".py",
   "mimetype": "text/x-python",
   "name": "python",
   "nbconvert_exporter": "python",
   "pygments_lexer": "ipython3",
   "version": "3.11.0"
  }
 },
 "nbformat": 4,
 "nbformat_minor": 5
}
